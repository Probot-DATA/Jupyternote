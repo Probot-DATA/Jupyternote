{
 "cells": [
  {
   "cell_type": "markdown",
   "id": "11bff530-8d72-4502-8a95-dbbe5c4f2db9",
   "metadata": {},
   "source": [
    "# Data Science Tools and Ecosystem"
   ]
  },
  {
   "cell_type": "markdown",
   "id": "4ca169ae-bb98-45a4-aba8-630782acb78d",
   "metadata": {},
   "source": [
    "In this notebook, Data Science Tools and Ecosystem are summarized."
   ]
  },
  {
   "cell_type": "markdown",
   "id": "e822677c-8195-427e-bc51-bbc1947f8f24",
   "metadata": {},
   "source": [
    "**Objectives**\n",
    "- To illustrate popular languages for DataScience\n",
    "- To illustrate popular libraries for DataScience\n",
    "- To understand the Behaviour of Markdown cells\n",
    "- To illustrate few basic arithmetic python cells"
   ]
  },
  {
   "cell_type": "markdown",
   "id": "43068ff2-8fa9-4f3a-970d-8b2741bd6f55",
   "metadata": {},
   "source": [
    "Some of the popular languages that Data Scientists use are:\n",
    "1. Python\n",
    "2. R\n",
    "3. Ruby"
   ]
  },
  {
   "cell_type": "markdown",
   "id": "426bb578-e0c4-45a7-9b28-fb739f20729c",
   "metadata": {},
   "source": [
    "Some of the commonly used libraries used by Data Scientists include:\n",
    "1. NumPy\n",
    "2. Pandas\n",
    "3. Matplotlib"
   ]
  },
  {
   "cell_type": "markdown",
   "id": "be8738df-794f-406b-9d51-7b81299571a8",
   "metadata": {},
   "source": [
    "| Data Science Tools |\n",
    "|--------------------|\n",
    "| Apache Spark       |\n",
    "| TensorFlow         |\n",
    "| RStudio            |"
   ]
  },
  {
   "cell_type": "markdown",
   "id": "34acfbd7-c893-4f03-b6fa-81785235e5df",
   "metadata": {},
   "source": [
    "### Below are a few examples of evaluating arithmetic expressions in Python"
   ]
  },
  {
   "cell_type": "code",
   "execution_count": 8,
   "id": "a3a5bdf0-7304-41ac-bb62-32e03d17081d",
   "metadata": {},
   "outputs": [
    {
     "name": "stdout",
     "output_type": "stream",
     "text": [
      "4\n",
      "0\n"
     ]
    }
   ],
   "source": [
    "print(5-3+2)\n",
    "print((5-3)%2)"
   ]
  },
  {
   "cell_type": "code",
   "execution_count": 10,
   "id": "2205f9d3-d9bf-4bc1-beb9-219fbe783497",
   "metadata": {},
   "outputs": [
    {
     "name": "stdout",
     "output_type": "stream",
     "text": [
      "17\n"
     ]
    }
   ],
   "source": [
    "# This a simple arithmetic expression to mutiply then add integers\n",
    "print((3*4)+5)"
   ]
  },
  {
   "cell_type": "code",
   "execution_count": 17,
   "id": "ddc279c3-104d-4ada-b5d4-8e6272fcc850",
   "metadata": {},
   "outputs": [
    {
     "name": "stdout",
     "output_type": "stream",
     "text": [
      "3.3333333333333335 hours\n"
     ]
    }
   ],
   "source": [
    "print(200/60, \"hours\") "
   ]
  },
  {
   "cell_type": "markdown",
   "id": "8e3c190b-f297-4552-95d0-1dbf26a9354d",
   "metadata": {},
   "source": [
    "## Author\n",
    "Mukku Prabhat Reddy "
   ]
  }
 ],
 "metadata": {
  "kernelspec": {
   "display_name": "Python 3 (ipykernel)",
   "language": "python",
   "name": "python3"
  },
  "language_info": {
   "codemirror_mode": {
    "name": "ipython",
    "version": 3
   },
   "file_extension": ".py",
   "mimetype": "text/x-python",
   "name": "python",
   "nbconvert_exporter": "python",
   "pygments_lexer": "ipython3",
   "version": "3.11.9"
  }
 },
 "nbformat": 4,
 "nbformat_minor": 5
}
